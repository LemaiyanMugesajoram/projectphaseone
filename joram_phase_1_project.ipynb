{
 "cells": [
  {
   "cell_type": "markdown",
   "metadata": {
    "id": "-UWsZvWhc0zI"
   },
   "source": [
    "mport Libraries"
   ]
  },
  {
   "cell_type": "code",
   "execution_count": 1,
   "metadata": {
    "id": "6WpIRkmFc35m"
   },
   "outputs": [],
   "source": [
    "import pandas as pd\n",
    "import matplotlib.pyplot as plt\n",
    "import seaborn as sns\n",
    "\n",
    "sns.set(style=\"whitegrid\")\n",
    "%matplotlib inline\n"
   ]
  },
  {
   "cell_type": "markdown",
   "metadata": {
    "id": "JYq04Rhpc-Dl"
   },
   "source": [
    "Load Dataset"
   ]
  },
  {
   "cell_type": "code",
   "execution_count": 2,
   "metadata": {
    "colab": {
     "base_uri": "https://localhost:8080/",
     "height": 617
    },
    "id": "EKJBkdrpdRPf",
    "outputId": "cf0c3056-c5ad-4df3-9ddb-7ee15065ee17"
   },
   "outputs": [
    {
     "data": {
      "text/html": [
       "<div>\n",
       "<style scoped>\n",
       "    .dataframe tbody tr th:only-of-type {\n",
       "        vertical-align: middle;\n",
       "    }\n",
       "\n",
       "    .dataframe tbody tr th {\n",
       "        vertical-align: top;\n",
       "    }\n",
       "\n",
       "    .dataframe thead th {\n",
       "        text-align: right;\n",
       "    }\n",
       "</style>\n",
       "<table border=\"1\" class=\"dataframe\">\n",
       "  <thead>\n",
       "    <tr style=\"text-align: right;\">\n",
       "      <th></th>\n",
       "      <th>Event.Id</th>\n",
       "      <th>Investigation.Type</th>\n",
       "      <th>Accident.Number</th>\n",
       "      <th>Event.Date</th>\n",
       "      <th>Location</th>\n",
       "      <th>Country</th>\n",
       "      <th>Latitude</th>\n",
       "      <th>Longitude</th>\n",
       "      <th>Airport.Code</th>\n",
       "      <th>Airport.Name</th>\n",
       "      <th>...</th>\n",
       "      <th>Purpose.of.flight</th>\n",
       "      <th>Air.carrier</th>\n",
       "      <th>Total.Fatal.Injuries</th>\n",
       "      <th>Total.Serious.Injuries</th>\n",
       "      <th>Total.Minor.Injuries</th>\n",
       "      <th>Total.Uninjured</th>\n",
       "      <th>Weather.Condition</th>\n",
       "      <th>Broad.phase.of.flight</th>\n",
       "      <th>Report.Status</th>\n",
       "      <th>Publication.Date</th>\n",
       "    </tr>\n",
       "  </thead>\n",
       "  <tbody>\n",
       "    <tr>\n",
       "      <th>0</th>\n",
       "      <td>20001218X45444</td>\n",
       "      <td>Accident</td>\n",
       "      <td>SEA87LA080</td>\n",
       "      <td>1948-10-24</td>\n",
       "      <td>MOOSE CREEK, ID</td>\n",
       "      <td>United States</td>\n",
       "      <td>NaN</td>\n",
       "      <td>NaN</td>\n",
       "      <td>NaN</td>\n",
       "      <td>NaN</td>\n",
       "      <td>...</td>\n",
       "      <td>Personal</td>\n",
       "      <td>NaN</td>\n",
       "      <td>2.0</td>\n",
       "      <td>0.0</td>\n",
       "      <td>0.0</td>\n",
       "      <td>0.0</td>\n",
       "      <td>UNK</td>\n",
       "      <td>Cruise</td>\n",
       "      <td>Probable Cause</td>\n",
       "      <td>NaN</td>\n",
       "    </tr>\n",
       "    <tr>\n",
       "      <th>1</th>\n",
       "      <td>20001218X45447</td>\n",
       "      <td>Accident</td>\n",
       "      <td>LAX94LA336</td>\n",
       "      <td>1962-07-19</td>\n",
       "      <td>BRIDGEPORT, CA</td>\n",
       "      <td>United States</td>\n",
       "      <td>NaN</td>\n",
       "      <td>NaN</td>\n",
       "      <td>NaN</td>\n",
       "      <td>NaN</td>\n",
       "      <td>...</td>\n",
       "      <td>Personal</td>\n",
       "      <td>NaN</td>\n",
       "      <td>4.0</td>\n",
       "      <td>0.0</td>\n",
       "      <td>0.0</td>\n",
       "      <td>0.0</td>\n",
       "      <td>UNK</td>\n",
       "      <td>Unknown</td>\n",
       "      <td>Probable Cause</td>\n",
       "      <td>19-09-1996</td>\n",
       "    </tr>\n",
       "    <tr>\n",
       "      <th>2</th>\n",
       "      <td>20061025X01555</td>\n",
       "      <td>Accident</td>\n",
       "      <td>NYC07LA005</td>\n",
       "      <td>1974-08-30</td>\n",
       "      <td>Saltville, VA</td>\n",
       "      <td>United States</td>\n",
       "      <td>36.922223</td>\n",
       "      <td>-81.878056</td>\n",
       "      <td>NaN</td>\n",
       "      <td>NaN</td>\n",
       "      <td>...</td>\n",
       "      <td>Personal</td>\n",
       "      <td>NaN</td>\n",
       "      <td>3.0</td>\n",
       "      <td>NaN</td>\n",
       "      <td>NaN</td>\n",
       "      <td>NaN</td>\n",
       "      <td>IMC</td>\n",
       "      <td>Cruise</td>\n",
       "      <td>Probable Cause</td>\n",
       "      <td>26-02-2007</td>\n",
       "    </tr>\n",
       "    <tr>\n",
       "      <th>3</th>\n",
       "      <td>20001218X45448</td>\n",
       "      <td>Accident</td>\n",
       "      <td>LAX96LA321</td>\n",
       "      <td>1977-06-19</td>\n",
       "      <td>EUREKA, CA</td>\n",
       "      <td>United States</td>\n",
       "      <td>NaN</td>\n",
       "      <td>NaN</td>\n",
       "      <td>NaN</td>\n",
       "      <td>NaN</td>\n",
       "      <td>...</td>\n",
       "      <td>Personal</td>\n",
       "      <td>NaN</td>\n",
       "      <td>2.0</td>\n",
       "      <td>0.0</td>\n",
       "      <td>0.0</td>\n",
       "      <td>0.0</td>\n",
       "      <td>IMC</td>\n",
       "      <td>Cruise</td>\n",
       "      <td>Probable Cause</td>\n",
       "      <td>12-09-2000</td>\n",
       "    </tr>\n",
       "    <tr>\n",
       "      <th>4</th>\n",
       "      <td>20041105X01764</td>\n",
       "      <td>Accident</td>\n",
       "      <td>CHI79FA064</td>\n",
       "      <td>1979-08-02</td>\n",
       "      <td>Canton, OH</td>\n",
       "      <td>United States</td>\n",
       "      <td>NaN</td>\n",
       "      <td>NaN</td>\n",
       "      <td>NaN</td>\n",
       "      <td>NaN</td>\n",
       "      <td>...</td>\n",
       "      <td>Personal</td>\n",
       "      <td>NaN</td>\n",
       "      <td>1.0</td>\n",
       "      <td>2.0</td>\n",
       "      <td>NaN</td>\n",
       "      <td>0.0</td>\n",
       "      <td>VMC</td>\n",
       "      <td>Approach</td>\n",
       "      <td>Probable Cause</td>\n",
       "      <td>16-04-1980</td>\n",
       "    </tr>\n",
       "    <tr>\n",
       "      <th>...</th>\n",
       "      <td>...</td>\n",
       "      <td>...</td>\n",
       "      <td>...</td>\n",
       "      <td>...</td>\n",
       "      <td>...</td>\n",
       "      <td>...</td>\n",
       "      <td>...</td>\n",
       "      <td>...</td>\n",
       "      <td>...</td>\n",
       "      <td>...</td>\n",
       "      <td>...</td>\n",
       "      <td>...</td>\n",
       "      <td>...</td>\n",
       "      <td>...</td>\n",
       "      <td>...</td>\n",
       "      <td>...</td>\n",
       "      <td>...</td>\n",
       "      <td>...</td>\n",
       "      <td>...</td>\n",
       "      <td>...</td>\n",
       "      <td>...</td>\n",
       "    </tr>\n",
       "    <tr>\n",
       "      <th>90343</th>\n",
       "      <td>20221227106491</td>\n",
       "      <td>Accident</td>\n",
       "      <td>ERA23LA093</td>\n",
       "      <td>2022-12-26</td>\n",
       "      <td>Annapolis, MD</td>\n",
       "      <td>United States</td>\n",
       "      <td>NaN</td>\n",
       "      <td>NaN</td>\n",
       "      <td>NaN</td>\n",
       "      <td>NaN</td>\n",
       "      <td>...</td>\n",
       "      <td>Personal</td>\n",
       "      <td>NaN</td>\n",
       "      <td>0.0</td>\n",
       "      <td>1.0</td>\n",
       "      <td>0.0</td>\n",
       "      <td>0.0</td>\n",
       "      <td>NaN</td>\n",
       "      <td>NaN</td>\n",
       "      <td>NaN</td>\n",
       "      <td>29-12-2022</td>\n",
       "    </tr>\n",
       "    <tr>\n",
       "      <th>90344</th>\n",
       "      <td>20221227106494</td>\n",
       "      <td>Accident</td>\n",
       "      <td>ERA23LA095</td>\n",
       "      <td>2022-12-26</td>\n",
       "      <td>Hampton, NH</td>\n",
       "      <td>United States</td>\n",
       "      <td>NaN</td>\n",
       "      <td>NaN</td>\n",
       "      <td>NaN</td>\n",
       "      <td>NaN</td>\n",
       "      <td>...</td>\n",
       "      <td>NaN</td>\n",
       "      <td>NaN</td>\n",
       "      <td>0.0</td>\n",
       "      <td>0.0</td>\n",
       "      <td>0.0</td>\n",
       "      <td>0.0</td>\n",
       "      <td>NaN</td>\n",
       "      <td>NaN</td>\n",
       "      <td>NaN</td>\n",
       "      <td>NaN</td>\n",
       "    </tr>\n",
       "    <tr>\n",
       "      <th>90345</th>\n",
       "      <td>20221227106497</td>\n",
       "      <td>Accident</td>\n",
       "      <td>WPR23LA075</td>\n",
       "      <td>2022-12-26</td>\n",
       "      <td>Payson, AZ</td>\n",
       "      <td>United States</td>\n",
       "      <td>341525N</td>\n",
       "      <td>1112021W</td>\n",
       "      <td>PAN</td>\n",
       "      <td>PAYSON</td>\n",
       "      <td>...</td>\n",
       "      <td>Personal</td>\n",
       "      <td>NaN</td>\n",
       "      <td>0.0</td>\n",
       "      <td>0.0</td>\n",
       "      <td>0.0</td>\n",
       "      <td>1.0</td>\n",
       "      <td>VMC</td>\n",
       "      <td>NaN</td>\n",
       "      <td>NaN</td>\n",
       "      <td>27-12-2022</td>\n",
       "    </tr>\n",
       "    <tr>\n",
       "      <th>90346</th>\n",
       "      <td>20221227106498</td>\n",
       "      <td>Accident</td>\n",
       "      <td>WPR23LA076</td>\n",
       "      <td>2022-12-26</td>\n",
       "      <td>Morgan, UT</td>\n",
       "      <td>United States</td>\n",
       "      <td>NaN</td>\n",
       "      <td>NaN</td>\n",
       "      <td>NaN</td>\n",
       "      <td>NaN</td>\n",
       "      <td>...</td>\n",
       "      <td>Personal</td>\n",
       "      <td>MC CESSNA 210N LLC</td>\n",
       "      <td>0.0</td>\n",
       "      <td>0.0</td>\n",
       "      <td>0.0</td>\n",
       "      <td>0.0</td>\n",
       "      <td>NaN</td>\n",
       "      <td>NaN</td>\n",
       "      <td>NaN</td>\n",
       "      <td>NaN</td>\n",
       "    </tr>\n",
       "    <tr>\n",
       "      <th>90347</th>\n",
       "      <td>20221230106513</td>\n",
       "      <td>Accident</td>\n",
       "      <td>ERA23LA097</td>\n",
       "      <td>2022-12-29</td>\n",
       "      <td>Athens, GA</td>\n",
       "      <td>United States</td>\n",
       "      <td>NaN</td>\n",
       "      <td>NaN</td>\n",
       "      <td>NaN</td>\n",
       "      <td>NaN</td>\n",
       "      <td>...</td>\n",
       "      <td>Personal</td>\n",
       "      <td>NaN</td>\n",
       "      <td>0.0</td>\n",
       "      <td>1.0</td>\n",
       "      <td>0.0</td>\n",
       "      <td>1.0</td>\n",
       "      <td>NaN</td>\n",
       "      <td>NaN</td>\n",
       "      <td>NaN</td>\n",
       "      <td>30-12-2022</td>\n",
       "    </tr>\n",
       "  </tbody>\n",
       "</table>\n",
       "<p>90348 rows × 31 columns</p>\n",
       "</div>"
      ],
      "text/plain": [
       "             Event.Id Investigation.Type Accident.Number  Event.Date  \\\n",
       "0      20001218X45444           Accident      SEA87LA080  1948-10-24   \n",
       "1      20001218X45447           Accident      LAX94LA336  1962-07-19   \n",
       "2      20061025X01555           Accident      NYC07LA005  1974-08-30   \n",
       "3      20001218X45448           Accident      LAX96LA321  1977-06-19   \n",
       "4      20041105X01764           Accident      CHI79FA064  1979-08-02   \n",
       "...               ...                ...             ...         ...   \n",
       "90343  20221227106491           Accident      ERA23LA093  2022-12-26   \n",
       "90344  20221227106494           Accident      ERA23LA095  2022-12-26   \n",
       "90345  20221227106497           Accident      WPR23LA075  2022-12-26   \n",
       "90346  20221227106498           Accident      WPR23LA076  2022-12-26   \n",
       "90347  20221230106513           Accident      ERA23LA097  2022-12-29   \n",
       "\n",
       "              Location        Country   Latitude   Longitude Airport.Code  \\\n",
       "0      MOOSE CREEK, ID  United States        NaN         NaN          NaN   \n",
       "1       BRIDGEPORT, CA  United States        NaN         NaN          NaN   \n",
       "2        Saltville, VA  United States  36.922223  -81.878056          NaN   \n",
       "3           EUREKA, CA  United States        NaN         NaN          NaN   \n",
       "4           Canton, OH  United States        NaN         NaN          NaN   \n",
       "...                ...            ...        ...         ...          ...   \n",
       "90343    Annapolis, MD  United States        NaN         NaN          NaN   \n",
       "90344      Hampton, NH  United States        NaN         NaN          NaN   \n",
       "90345       Payson, AZ  United States    341525N    1112021W          PAN   \n",
       "90346       Morgan, UT  United States        NaN         NaN          NaN   \n",
       "90347       Athens, GA  United States        NaN         NaN          NaN   \n",
       "\n",
       "      Airport.Name  ... Purpose.of.flight         Air.carrier  \\\n",
       "0              NaN  ...          Personal                 NaN   \n",
       "1              NaN  ...          Personal                 NaN   \n",
       "2              NaN  ...          Personal                 NaN   \n",
       "3              NaN  ...          Personal                 NaN   \n",
       "4              NaN  ...          Personal                 NaN   \n",
       "...            ...  ...               ...                 ...   \n",
       "90343          NaN  ...          Personal                 NaN   \n",
       "90344          NaN  ...               NaN                 NaN   \n",
       "90345       PAYSON  ...          Personal                 NaN   \n",
       "90346          NaN  ...          Personal  MC CESSNA 210N LLC   \n",
       "90347          NaN  ...          Personal                 NaN   \n",
       "\n",
       "      Total.Fatal.Injuries Total.Serious.Injuries Total.Minor.Injuries  \\\n",
       "0                      2.0                    0.0                  0.0   \n",
       "1                      4.0                    0.0                  0.0   \n",
       "2                      3.0                    NaN                  NaN   \n",
       "3                      2.0                    0.0                  0.0   \n",
       "4                      1.0                    2.0                  NaN   \n",
       "...                    ...                    ...                  ...   \n",
       "90343                  0.0                    1.0                  0.0   \n",
       "90344                  0.0                    0.0                  0.0   \n",
       "90345                  0.0                    0.0                  0.0   \n",
       "90346                  0.0                    0.0                  0.0   \n",
       "90347                  0.0                    1.0                  0.0   \n",
       "\n",
       "      Total.Uninjured Weather.Condition  Broad.phase.of.flight  \\\n",
       "0                 0.0               UNK                 Cruise   \n",
       "1                 0.0               UNK                Unknown   \n",
       "2                 NaN               IMC                 Cruise   \n",
       "3                 0.0               IMC                 Cruise   \n",
       "4                 0.0               VMC               Approach   \n",
       "...               ...               ...                    ...   \n",
       "90343             0.0               NaN                    NaN   \n",
       "90344             0.0               NaN                    NaN   \n",
       "90345             1.0               VMC                    NaN   \n",
       "90346             0.0               NaN                    NaN   \n",
       "90347             1.0               NaN                    NaN   \n",
       "\n",
       "        Report.Status Publication.Date  \n",
       "0      Probable Cause              NaN  \n",
       "1      Probable Cause       19-09-1996  \n",
       "2      Probable Cause       26-02-2007  \n",
       "3      Probable Cause       12-09-2000  \n",
       "4      Probable Cause       16-04-1980  \n",
       "...               ...              ...  \n",
       "90343             NaN       29-12-2022  \n",
       "90344             NaN              NaN  \n",
       "90345             NaN       27-12-2022  \n",
       "90346             NaN              NaN  \n",
       "90347             NaN       30-12-2022  \n",
       "\n",
       "[90348 rows x 31 columns]"
      ]
     },
     "execution_count": 2,
     "metadata": {},
     "output_type": "execute_result"
    }
   ],
   "source": [
    "#This tells pandas to read the file in one go and figure it out better:\n",
    "\n",
    "df = pd.read_csv(\"Aviation_Data.csv\", low_memory=False)\n",
    "df"
   ]
  },
  {
   "cell_type": "markdown",
   "metadata": {
    "id": "N_rNCAUFdhw_"
   },
   "source": [
    "Exploratory Data Analysis (EDA)"
   ]
  },
  {
   "cell_type": "code",
   "execution_count": 3,
   "metadata": {
    "colab": {
     "base_uri": "https://localhost:8080/",
     "height": 0
    },
    "id": "lbCDSkTqd4Qo",
    "outputId": "b617bc9a-d147-4847-aa43-780bdbe02128"
   },
   "outputs": [
    {
     "data": {
      "text/plain": [
       "(90348, 31)"
      ]
     },
     "execution_count": 3,
     "metadata": {},
     "output_type": "execute_result"
    }
   ],
   "source": [
    "df.shape"
   ]
  },
  {
   "cell_type": "code",
   "execution_count": 4,
   "metadata": {
    "colab": {
     "base_uri": "https://localhost:8080/",
     "height": 0
    },
    "id": "J4Ot6cjud9IT",
    "outputId": "9e42f5b3-d3cb-4538-94ba-0719d36f25a5"
   },
   "outputs": [
    {
     "name": "stdout",
     "output_type": "stream",
     "text": [
      "<class 'pandas.core.frame.DataFrame'>\n",
      "RangeIndex: 90348 entries, 0 to 90347\n",
      "Data columns (total 31 columns):\n",
      " #   Column                  Non-Null Count  Dtype  \n",
      "---  ------                  --------------  -----  \n",
      " 0   Event.Id                88889 non-null  object \n",
      " 1   Investigation.Type      90348 non-null  object \n",
      " 2   Accident.Number         88889 non-null  object \n",
      " 3   Event.Date              88889 non-null  object \n",
      " 4   Location                88837 non-null  object \n",
      " 5   Country                 88663 non-null  object \n",
      " 6   Latitude                34382 non-null  object \n",
      " 7   Longitude               34373 non-null  object \n",
      " 8   Airport.Code            50132 non-null  object \n",
      " 9   Airport.Name            52704 non-null  object \n",
      " 10  Injury.Severity         87889 non-null  object \n",
      " 11  Aircraft.damage         85695 non-null  object \n",
      " 12  Aircraft.Category       32287 non-null  object \n",
      " 13  Registration.Number     87507 non-null  object \n",
      " 14  Make                    88826 non-null  object \n",
      " 15  Model                   88797 non-null  object \n",
      " 16  Amateur.Built           88787 non-null  object \n",
      " 17  Number.of.Engines       82805 non-null  float64\n",
      " 18  Engine.Type             81793 non-null  object \n",
      " 19  FAR.Description         32023 non-null  object \n",
      " 20  Schedule                12582 non-null  object \n",
      " 21  Purpose.of.flight       82697 non-null  object \n",
      " 22  Air.carrier             16648 non-null  object \n",
      " 23  Total.Fatal.Injuries    77488 non-null  float64\n",
      " 24  Total.Serious.Injuries  76379 non-null  float64\n",
      " 25  Total.Minor.Injuries    76956 non-null  float64\n",
      " 26  Total.Uninjured         82977 non-null  float64\n",
      " 27  Weather.Condition       84397 non-null  object \n",
      " 28  Broad.phase.of.flight   61724 non-null  object \n",
      " 29  Report.Status           82505 non-null  object \n",
      " 30  Publication.Date        73659 non-null  object \n",
      "dtypes: float64(5), object(26)\n",
      "memory usage: 21.4+ MB\n"
     ]
    }
   ],
   "source": [
    "# Structure of dataset\n",
    "df.info()\n"
   ]
  },
  {
   "cell_type": "code",
   "execution_count": 5,
   "metadata": {
    "colab": {
     "base_uri": "https://localhost:8080/",
     "height": 300
    },
    "id": "3lZDOUeweEVf",
    "outputId": "f21ee3f3-3f36-4722-8150-22dca1bfcc56"
   },
   "outputs": [
    {
     "data": {
      "text/html": [
       "<div>\n",
       "<style scoped>\n",
       "    .dataframe tbody tr th:only-of-type {\n",
       "        vertical-align: middle;\n",
       "    }\n",
       "\n",
       "    .dataframe tbody tr th {\n",
       "        vertical-align: top;\n",
       "    }\n",
       "\n",
       "    .dataframe thead th {\n",
       "        text-align: right;\n",
       "    }\n",
       "</style>\n",
       "<table border=\"1\" class=\"dataframe\">\n",
       "  <thead>\n",
       "    <tr style=\"text-align: right;\">\n",
       "      <th></th>\n",
       "      <th>Number.of.Engines</th>\n",
       "      <th>Total.Fatal.Injuries</th>\n",
       "      <th>Total.Serious.Injuries</th>\n",
       "      <th>Total.Minor.Injuries</th>\n",
       "      <th>Total.Uninjured</th>\n",
       "    </tr>\n",
       "  </thead>\n",
       "  <tbody>\n",
       "    <tr>\n",
       "      <th>count</th>\n",
       "      <td>82805.000000</td>\n",
       "      <td>77488.000000</td>\n",
       "      <td>76379.000000</td>\n",
       "      <td>76956.000000</td>\n",
       "      <td>82977.000000</td>\n",
       "    </tr>\n",
       "    <tr>\n",
       "      <th>mean</th>\n",
       "      <td>1.146585</td>\n",
       "      <td>0.647855</td>\n",
       "      <td>0.279881</td>\n",
       "      <td>0.357061</td>\n",
       "      <td>5.325440</td>\n",
       "    </tr>\n",
       "    <tr>\n",
       "      <th>std</th>\n",
       "      <td>0.446510</td>\n",
       "      <td>5.485960</td>\n",
       "      <td>1.544084</td>\n",
       "      <td>2.235625</td>\n",
       "      <td>27.913634</td>\n",
       "    </tr>\n",
       "    <tr>\n",
       "      <th>min</th>\n",
       "      <td>0.000000</td>\n",
       "      <td>0.000000</td>\n",
       "      <td>0.000000</td>\n",
       "      <td>0.000000</td>\n",
       "      <td>0.000000</td>\n",
       "    </tr>\n",
       "    <tr>\n",
       "      <th>25%</th>\n",
       "      <td>1.000000</td>\n",
       "      <td>0.000000</td>\n",
       "      <td>0.000000</td>\n",
       "      <td>0.000000</td>\n",
       "      <td>0.000000</td>\n",
       "    </tr>\n",
       "    <tr>\n",
       "      <th>50%</th>\n",
       "      <td>1.000000</td>\n",
       "      <td>0.000000</td>\n",
       "      <td>0.000000</td>\n",
       "      <td>0.000000</td>\n",
       "      <td>1.000000</td>\n",
       "    </tr>\n",
       "    <tr>\n",
       "      <th>75%</th>\n",
       "      <td>1.000000</td>\n",
       "      <td>0.000000</td>\n",
       "      <td>0.000000</td>\n",
       "      <td>0.000000</td>\n",
       "      <td>2.000000</td>\n",
       "    </tr>\n",
       "    <tr>\n",
       "      <th>max</th>\n",
       "      <td>8.000000</td>\n",
       "      <td>349.000000</td>\n",
       "      <td>161.000000</td>\n",
       "      <td>380.000000</td>\n",
       "      <td>699.000000</td>\n",
       "    </tr>\n",
       "  </tbody>\n",
       "</table>\n",
       "</div>"
      ],
      "text/plain": [
       "       Number.of.Engines  Total.Fatal.Injuries  Total.Serious.Injuries  \\\n",
       "count       82805.000000          77488.000000            76379.000000   \n",
       "mean            1.146585              0.647855                0.279881   \n",
       "std             0.446510              5.485960                1.544084   \n",
       "min             0.000000              0.000000                0.000000   \n",
       "25%             1.000000              0.000000                0.000000   \n",
       "50%             1.000000              0.000000                0.000000   \n",
       "75%             1.000000              0.000000                0.000000   \n",
       "max             8.000000            349.000000              161.000000   \n",
       "\n",
       "       Total.Minor.Injuries  Total.Uninjured  \n",
       "count          76956.000000     82977.000000  \n",
       "mean               0.357061         5.325440  \n",
       "std                2.235625        27.913634  \n",
       "min                0.000000         0.000000  \n",
       "25%                0.000000         0.000000  \n",
       "50%                0.000000         1.000000  \n",
       "75%                0.000000         2.000000  \n",
       "max              380.000000       699.000000  "
      ]
     },
     "execution_count": 5,
     "metadata": {},
     "output_type": "execute_result"
    }
   ],
   "source": [
    "# Summary statistics\n",
    "df.describe()\n"
   ]
  },
  {
   "cell_type": "code",
   "execution_count": 6,
   "metadata": {
    "colab": {
     "base_uri": "https://localhost:8080/",
     "height": 1024
    },
    "id": "uCMNXssneJd6",
    "outputId": "e2bd5b18-7927-480e-fdab-4bb032e41ad2"
   },
   "outputs": [
    {
     "data": {
      "text/plain": [
       "Schedule                  77766\n",
       "Air.carrier               73700\n",
       "FAR.Description           58325\n",
       "Aircraft.Category         58061\n",
       "Longitude                 55975\n",
       "Latitude                  55966\n",
       "Airport.Code              40216\n",
       "Airport.Name              37644\n",
       "Broad.phase.of.flight     28624\n",
       "Publication.Date          16689\n",
       "Total.Serious.Injuries    13969\n",
       "Total.Minor.Injuries      13392\n",
       "Total.Fatal.Injuries      12860\n",
       "Engine.Type                8555\n",
       "Report.Status              7843\n",
       "Purpose.of.flight          7651\n",
       "Number.of.Engines          7543\n",
       "Total.Uninjured            7371\n",
       "Weather.Condition          5951\n",
       "Aircraft.damage            4653\n",
       "Registration.Number        2841\n",
       "Injury.Severity            2459\n",
       "Country                    1685\n",
       "Amateur.Built              1561\n",
       "Model                      1551\n",
       "Make                       1522\n",
       "Location                   1511\n",
       "Event.Date                 1459\n",
       "Event.Id                   1459\n",
       "Accident.Number            1459\n",
       "dtype: int64"
      ]
     },
     "execution_count": 6,
     "metadata": {},
     "output_type": "execute_result"
    }
   ],
   "source": [
    "# Missing values\n",
    "missing = df.isnull().sum().sort_values(ascending=False)\n",
    "missing[missing > 0]\n"
   ]
  },
  {
   "cell_type": "code",
   "execution_count": 7,
   "metadata": {
    "colab": {
     "base_uri": "https://localhost:8080/",
     "height": 0
    },
    "id": "zCwpfddgeNSM",
    "outputId": "bb573865-e4a5-4e06-cd8f-bed49f8eef93"
   },
   "outputs": [
    {
     "name": "stdout",
     "output_type": "stream",
     "text": [
      "Top Makes:\n",
      " Make\n",
      "Cessna     22227\n",
      "Piper      12029\n",
      "CESSNA      4922\n",
      "Beech       4330\n",
      "PIPER       2841\n",
      "Bell        2134\n",
      "Boeing      1594\n",
      "BOEING      1151\n",
      "Grumman     1094\n",
      "Mooney      1092\n",
      "Name: count, dtype: int64\n",
      "Top Models:\n",
      " Model\n",
      "152          2367\n",
      "172          1756\n",
      "172N         1164\n",
      "PA-28-140     932\n",
      "150           829\n",
      "172M          798\n",
      "172P          689\n",
      "182           659\n",
      "180           622\n",
      "150M          585\n",
      "Name: count, dtype: int64\n"
     ]
    }
   ],
   "source": [
    "# Top aircraft makes and models\n",
    "print(\"Top Makes:\\n\", df['Make'].value_counts().head(10))\n",
    "print(\"Top Models:\\n\", df['Model'].value_counts().head(10))\n"
   ]
  },
  {
   "cell_type": "code",
   "execution_count": 8,
   "metadata": {
    "colab": {
     "base_uri": "https://localhost:8080/",
     "height": 419
    },
    "id": "mZ5LGoFlesv1",
    "outputId": "73c4cd69-0646-4286-ed66-e3e3b1fa8ffe"
   },
   "outputs": [
    {
     "data": {
      "image/png": "[encoded data removed]",
      "text/plain": [
       "<Figure size 1000x400 with 1 Axes>"
      ]
     },
     "metadata": {},
     "output_type": "display_data"
    }
   ],
   "source": [
    "# Distribution of fatal injuries\n",
    "df['Total.Fatal.Injuries'] = pd.to_numeric(df['Total.Fatal.Injuries'], errors='coerce')\n",
    "plt.figure(figsize=(10, 4))\n",
    "sns.histplot(df['Total.Fatal.Injuries'].dropna(), bins=50, kde=True)\n",
    "plt.title('Distribution of Fatal Injuries')\n",
    "plt.xlabel('Number of Fatal Injuries')\n",
    "plt.show()\n"
   ]
  },
  {
   "cell_type": "markdown",
   "metadata": {
    "id": "IghAP047iNth"
   },
   "source": [
    "Clean Column Names"
   ]
  },
  {
   "cell_type": "code",
   "execution_count": 9,
   "metadata": {
    "colab": {
     "base_uri": "https://localhost:8080/",
     "height": 0
    },
    "id": "sA_BqqSZiO2c",
    "outputId": "e654be05-1f6b-4336-b8b8-cce142295596"
   },
   "outputs": [
    {
     "name": "stdout",
     "output_type": "stream",
     "text": [
      "['event_id', 'investigation_type', 'accident_number', 'event_date', 'location', 'country', 'latitude', 'longitude', 'airport_code', 'airport_name', 'injury_severity', 'aircraft_damage', 'aircraft_category', 'registration_number', 'make', 'model', 'amateur_built', 'number_of_engines', 'engine_type', 'far_description', 'schedule', 'purpose_of_flight', 'air_carrier', 'total_fatal_injuries', 'total_serious_injuries', 'total_minor_injuries', 'total_uninjured', 'weather_condition', 'broad_phase_of_flight', 'report_status', 'publication_date']\n"
     ]
    }
   ],
   "source": [
    "#Rename Columns for Consistency\n",
    "\n",
    "df.columns = df.columns.str.strip().str.lower().str.replace('.', '_').str.replace(' ', '_')\n",
    "\n",
    "# Check again\n",
    "print(df.columns.tolist())"
   ]
  },
  {
   "cell_type": "markdown",
   "metadata": {
    "id": "EGe_qFXWiYST"
   },
   "source": [
    "Drop Irrelevant Columns"
   ]
  },
  {
   "cell_type": "code",
   "execution_count": 10,
   "metadata": {
    "id": "bM2jZcqfibYS"
   },
   "outputs": [],
   "source": [
    "df.drop(columns=[\n",
    "    'event_id', 'accident_number', 'registration_number',\n",
    "    'airport_code', 'airport_name', 'latitude', 'longitude'\n",
    "], inplace=True)"
   ]
  },
  {
   "cell_type": "markdown",
   "metadata": {
    "id": "htSxEE-KiuPW"
   },
   "source": [
    "Convert Dates to datetime"
   ]
  },
  {
   "cell_type": "code",
   "execution_count": 11,
   "metadata": {
    "id": "FTnChbG_jD8C"
   },
   "outputs": [],
   "source": [
    "# Convert dates\n",
    "df['event_date'] = pd.to_datetime(df['event_date'], errors='coerce')\n",
    "df = df[df['event_date'].notnull()]"
   ]
  },
  {
   "cell_type": "markdown",
   "metadata": {
    "id": "TRrOp7IajQOu"
   },
   "source": [
    "Fill Missing Categorical Columns with \"Unknown\""
   ]
  },
  {
   "cell_type": "code",
   "execution_count": 12,
   "metadata": {
    "colab": {
     "base_uri": "https://localhost:8080/",
     "height": 0
    },
    "id": "HTYLVVozjQ7T",
    "outputId": "80a5aa32-6c5d-4acc-c2fb-f86c67580ec7"
   },
   "outputs": [
    {
     "name": "stderr",
     "output_type": "stream",
     "text": [
      "C:\\Users\\ADMIN\\AppData\\Local\\Temp\\ipykernel_17284\\1370319751.py:6: SettingWithCopyWarning: \n",
      "A value is trying to be set on a copy of a slice from a DataFrame.\n",
      "Try using .loc[row_indexer,col_indexer] = value instead\n",
      "\n",
      "See the caveats in the documentation: https://pandas.pydata.org/pandas-docs/stable/user_guide/indexing.html#returning-a-view-versus-a-copy\n",
      "  df[cat_cols] = df[cat_cols].fillna('Unknown')\n"
     ]
    }
   ],
   "source": [
    "cat_cols = ['injury_severity', 'aircraft_damage', 'aircraft_category',\n",
    "            'amateur_built', 'engine_type', 'weather_condition',\n",
    "            'broad_phase_of_flight', 'report_status', 'purpose_of_flight']\n",
    "\n",
    "# Replace all missing categorical values with 'Unknown'\n",
    "df[cat_cols] = df[cat_cols].fillna('Unknown')\n"
   ]
  },
  {
   "cell_type": "markdown",
   "metadata": {
    "id": "ByQpbqLajRdC"
   },
   "source": [
    "Fill Missing Injury Numbers with 0"
   ]
  },
  {
   "cell_type": "code",
   "execution_count": 13,
   "metadata": {
    "id": "zdN1kHdUjWMz"
   },
   "outputs": [],
   "source": [
    "injury_cols = [\n",
    "    'total_fatal_injuries', 'total_serious_injuries',\n",
    "    'total_minor_injuries', 'total_uninjured'\n",
    "]\n",
    "\n",
    "for col in injury_cols:\n",
    "    df.loc[:, col] = pd.to_numeric(df[col], errors='coerce').fillna(0)\n"
   ]
  },
  {
   "cell_type": "code",
   "execution_count": 14,
   "metadata": {
    "colab": {
     "base_uri": "https://localhost:8080/",
     "height": 0
    },
    "id": "zXwfQE6O1kJA",
    "outputId": "ca40b466-58dd-489e-e8a0-3bae2f8b60a7"
   },
   "outputs": [
    {
     "name": "stderr",
     "output_type": "stream",
     "text": [
      "C:\\Users\\ADMIN\\AppData\\Local\\Temp\\ipykernel_17284\\4241768625.py:3: SettingWithCopyWarning: \n",
      "A value is trying to be set on a copy of a slice from a DataFrame.\n",
      "Try using .loc[row_indexer,col_indexer] = value instead\n",
      "\n",
      "See the caveats in the documentation: https://pandas.pydata.org/pandas-docs/stable/user_guide/indexing.html#returning-a-view-versus-a-copy\n",
      "  df[col] = pd.to_numeric(df[col], errors='coerce').fillna(0)\n"
     ]
    }
   ],
   "source": [
    "# Convert injury-related fields to numeric, fill missing values with 0\n",
    "for col in ['total_fatal_injuries', 'total_serious_injuries', 'total_minor_injuries']:\n",
    "    df[col] = pd.to_numeric(df[col], errors='coerce').fillna(0)\n"
   ]
  },
  {
   "cell_type": "markdown",
   "metadata": {
    "id": "JilSDvvxko98"
   },
   "source": [
    "Drop Rows with Missing Aircraft Info"
   ]
  },
  {
   "cell_type": "code",
   "execution_count": 15,
   "metadata": {
    "id": "4tl3-yDnkyH6"
   },
   "outputs": [],
   "source": [
    "df = df.dropna(subset=['make', 'model'])"
   ]
  },
  {
   "cell_type": "code",
   "execution_count": 16,
   "metadata": {
    "colab": {
     "base_uri": "https://localhost:8080/",
     "height": 0
    },
    "id": "9RIPmhPjsp2D",
    "outputId": "668483c0-f949-47b0-fdac-72fdd357f564"
   },
   "outputs": [],
   "source": [
    "df['accident_id'] = df.index + 1"
   ]
  },
  {
   "cell_type": "markdown",
   "metadata": {
    "id": "UP1yo6Qik7Vi"
   },
   "source": [
    "Create Severity Score"
   ]
  },
  {
   "cell_type": "code",
   "execution_count": 17,
   "metadata": {
    "colab": {
     "base_uri": "https://localhost:8080/",
     "height": 742
    },
    "id": "UbomLwrElVaP",
    "outputId": "6f926117-caf1-432e-cb5b-070c9a2f8f21"
   },
   "outputs": [
    {
     "data": {
      "text/html": [
       "<div>\n",
       "<style scoped>\n",
       "    .dataframe tbody tr th:only-of-type {\n",
       "        vertical-align: middle;\n",
       "    }\n",
       "\n",
       "    .dataframe tbody tr th {\n",
       "        vertical-align: top;\n",
       "    }\n",
       "\n",
       "    .dataframe thead th {\n",
       "        text-align: right;\n",
       "    }\n",
       "</style>\n",
       "<table border=\"1\" class=\"dataframe\">\n",
       "  <thead>\n",
       "    <tr style=\"text-align: right;\">\n",
       "      <th></th>\n",
       "      <th>investigation_type</th>\n",
       "      <th>event_date</th>\n",
       "      <th>location</th>\n",
       "      <th>country</th>\n",
       "      <th>injury_severity</th>\n",
       "      <th>aircraft_damage</th>\n",
       "      <th>aircraft_category</th>\n",
       "      <th>make</th>\n",
       "      <th>model</th>\n",
       "      <th>amateur_built</th>\n",
       "      <th>...</th>\n",
       "      <th>total_fatal_injuries</th>\n",
       "      <th>total_serious_injuries</th>\n",
       "      <th>total_minor_injuries</th>\n",
       "      <th>total_uninjured</th>\n",
       "      <th>weather_condition</th>\n",
       "      <th>broad_phase_of_flight</th>\n",
       "      <th>report_status</th>\n",
       "      <th>publication_date</th>\n",
       "      <th>accident_id</th>\n",
       "      <th>severity_score</th>\n",
       "    </tr>\n",
       "  </thead>\n",
       "  <tbody>\n",
       "    <tr>\n",
       "      <th>0</th>\n",
       "      <td>Accident</td>\n",
       "      <td>1948-10-24</td>\n",
       "      <td>MOOSE CREEK, ID</td>\n",
       "      <td>United States</td>\n",
       "      <td>Fatal(2)</td>\n",
       "      <td>Destroyed</td>\n",
       "      <td>Unknown</td>\n",
       "      <td>Stinson</td>\n",
       "      <td>108-3</td>\n",
       "      <td>No</td>\n",
       "      <td>...</td>\n",
       "      <td>2.0</td>\n",
       "      <td>0.0</td>\n",
       "      <td>0.0</td>\n",
       "      <td>0.0</td>\n",
       "      <td>UNK</td>\n",
       "      <td>Cruise</td>\n",
       "      <td>Probable Cause</td>\n",
       "      <td>NaN</td>\n",
       "      <td>1</td>\n",
       "      <td>6.0</td>\n",
       "    </tr>\n",
       "    <tr>\n",
       "      <th>1</th>\n",
       "      <td>Accident</td>\n",
       "      <td>1962-07-19</td>\n",
       "      <td>BRIDGEPORT, CA</td>\n",
       "      <td>United States</td>\n",
       "      <td>Fatal(4)</td>\n",
       "      <td>Destroyed</td>\n",
       "      <td>Unknown</td>\n",
       "      <td>Piper</td>\n",
       "      <td>PA24-180</td>\n",
       "      <td>No</td>\n",
       "      <td>...</td>\n",
       "      <td>4.0</td>\n",
       "      <td>0.0</td>\n",
       "      <td>0.0</td>\n",
       "      <td>0.0</td>\n",
       "      <td>UNK</td>\n",
       "      <td>Unknown</td>\n",
       "      <td>Probable Cause</td>\n",
       "      <td>19-09-1996</td>\n",
       "      <td>2</td>\n",
       "      <td>12.0</td>\n",
       "    </tr>\n",
       "    <tr>\n",
       "      <th>2</th>\n",
       "      <td>Accident</td>\n",
       "      <td>1974-08-30</td>\n",
       "      <td>Saltville, VA</td>\n",
       "      <td>United States</td>\n",
       "      <td>Fatal(3)</td>\n",
       "      <td>Destroyed</td>\n",
       "      <td>Unknown</td>\n",
       "      <td>Cessna</td>\n",
       "      <td>172M</td>\n",
       "      <td>No</td>\n",
       "      <td>...</td>\n",
       "      <td>3.0</td>\n",
       "      <td>0.0</td>\n",
       "      <td>0.0</td>\n",
       "      <td>0.0</td>\n",
       "      <td>IMC</td>\n",
       "      <td>Cruise</td>\n",
       "      <td>Probable Cause</td>\n",
       "      <td>26-02-2007</td>\n",
       "      <td>3</td>\n",
       "      <td>9.0</td>\n",
       "    </tr>\n",
       "    <tr>\n",
       "      <th>3</th>\n",
       "      <td>Accident</td>\n",
       "      <td>1977-06-19</td>\n",
       "      <td>EUREKA, CA</td>\n",
       "      <td>United States</td>\n",
       "      <td>Fatal(2)</td>\n",
       "      <td>Destroyed</td>\n",
       "      <td>Unknown</td>\n",
       "      <td>Rockwell</td>\n",
       "      <td>112</td>\n",
       "      <td>No</td>\n",
       "      <td>...</td>\n",
       "      <td>2.0</td>\n",
       "      <td>0.0</td>\n",
       "      <td>0.0</td>\n",
       "      <td>0.0</td>\n",
       "      <td>IMC</td>\n",
       "      <td>Cruise</td>\n",
       "      <td>Probable Cause</td>\n",
       "      <td>12-09-2000</td>\n",
       "      <td>4</td>\n",
       "      <td>6.0</td>\n",
       "    </tr>\n",
       "    <tr>\n",
       "      <th>4</th>\n",
       "      <td>Accident</td>\n",
       "      <td>1979-08-02</td>\n",
       "      <td>Canton, OH</td>\n",
       "      <td>United States</td>\n",
       "      <td>Fatal(1)</td>\n",
       "      <td>Destroyed</td>\n",
       "      <td>Unknown</td>\n",
       "      <td>Cessna</td>\n",
       "      <td>501</td>\n",
       "      <td>No</td>\n",
       "      <td>...</td>\n",
       "      <td>1.0</td>\n",
       "      <td>2.0</td>\n",
       "      <td>0.0</td>\n",
       "      <td>0.0</td>\n",
       "      <td>VMC</td>\n",
       "      <td>Approach</td>\n",
       "      <td>Probable Cause</td>\n",
       "      <td>16-04-1980</td>\n",
       "      <td>5</td>\n",
       "      <td>7.0</td>\n",
       "    </tr>\n",
       "    <tr>\n",
       "      <th>...</th>\n",
       "      <td>...</td>\n",
       "      <td>...</td>\n",
       "      <td>...</td>\n",
       "      <td>...</td>\n",
       "      <td>...</td>\n",
       "      <td>...</td>\n",
       "      <td>...</td>\n",
       "      <td>...</td>\n",
       "      <td>...</td>\n",
       "      <td>...</td>\n",
       "      <td>...</td>\n",
       "      <td>...</td>\n",
       "      <td>...</td>\n",
       "      <td>...</td>\n",
       "      <td>...</td>\n",
       "      <td>...</td>\n",
       "      <td>...</td>\n",
       "      <td>...</td>\n",
       "      <td>...</td>\n",
       "      <td>...</td>\n",
       "      <td>...</td>\n",
       "    </tr>\n",
       "    <tr>\n",
       "      <th>90343</th>\n",
       "      <td>Accident</td>\n",
       "      <td>2022-12-26</td>\n",
       "      <td>Annapolis, MD</td>\n",
       "      <td>United States</td>\n",
       "      <td>Minor</td>\n",
       "      <td>Unknown</td>\n",
       "      <td>Unknown</td>\n",
       "      <td>PIPER</td>\n",
       "      <td>PA-28-151</td>\n",
       "      <td>No</td>\n",
       "      <td>...</td>\n",
       "      <td>0.0</td>\n",
       "      <td>1.0</td>\n",
       "      <td>0.0</td>\n",
       "      <td>0.0</td>\n",
       "      <td>Unknown</td>\n",
       "      <td>Unknown</td>\n",
       "      <td>Unknown</td>\n",
       "      <td>29-12-2022</td>\n",
       "      <td>90344</td>\n",
       "      <td>2.0</td>\n",
       "    </tr>\n",
       "    <tr>\n",
       "      <th>90344</th>\n",
       "      <td>Accident</td>\n",
       "      <td>2022-12-26</td>\n",
       "      <td>Hampton, NH</td>\n",
       "      <td>United States</td>\n",
       "      <td>Unknown</td>\n",
       "      <td>Unknown</td>\n",
       "      <td>Unknown</td>\n",
       "      <td>BELLANCA</td>\n",
       "      <td>7ECA</td>\n",
       "      <td>No</td>\n",
       "      <td>...</td>\n",
       "      <td>0.0</td>\n",
       "      <td>0.0</td>\n",
       "      <td>0.0</td>\n",
       "      <td>0.0</td>\n",
       "      <td>Unknown</td>\n",
       "      <td>Unknown</td>\n",
       "      <td>Unknown</td>\n",
       "      <td>NaN</td>\n",
       "      <td>90345</td>\n",
       "      <td>0.0</td>\n",
       "    </tr>\n",
       "    <tr>\n",
       "      <th>90345</th>\n",
       "      <td>Accident</td>\n",
       "      <td>2022-12-26</td>\n",
       "      <td>Payson, AZ</td>\n",
       "      <td>United States</td>\n",
       "      <td>Non-Fatal</td>\n",
       "      <td>Substantial</td>\n",
       "      <td>Airplane</td>\n",
       "      <td>AMERICAN CHAMPION AIRCRAFT</td>\n",
       "      <td>8GCBC</td>\n",
       "      <td>No</td>\n",
       "      <td>...</td>\n",
       "      <td>0.0</td>\n",
       "      <td>0.0</td>\n",
       "      <td>0.0</td>\n",
       "      <td>1.0</td>\n",
       "      <td>VMC</td>\n",
       "      <td>Unknown</td>\n",
       "      <td>Unknown</td>\n",
       "      <td>27-12-2022</td>\n",
       "      <td>90346</td>\n",
       "      <td>0.0</td>\n",
       "    </tr>\n",
       "    <tr>\n",
       "      <th>90346</th>\n",
       "      <td>Accident</td>\n",
       "      <td>2022-12-26</td>\n",
       "      <td>Morgan, UT</td>\n",
       "      <td>United States</td>\n",
       "      <td>Unknown</td>\n",
       "      <td>Unknown</td>\n",
       "      <td>Unknown</td>\n",
       "      <td>CESSNA</td>\n",
       "      <td>210N</td>\n",
       "      <td>No</td>\n",
       "      <td>...</td>\n",
       "      <td>0.0</td>\n",
       "      <td>0.0</td>\n",
       "      <td>0.0</td>\n",
       "      <td>0.0</td>\n",
       "      <td>Unknown</td>\n",
       "      <td>Unknown</td>\n",
       "      <td>Unknown</td>\n",
       "      <td>NaN</td>\n",
       "      <td>90347</td>\n",
       "      <td>0.0</td>\n",
       "    </tr>\n",
       "    <tr>\n",
       "      <th>90347</th>\n",
       "      <td>Accident</td>\n",
       "      <td>2022-12-29</td>\n",
       "      <td>Athens, GA</td>\n",
       "      <td>United States</td>\n",
       "      <td>Minor</td>\n",
       "      <td>Unknown</td>\n",
       "      <td>Unknown</td>\n",
       "      <td>PIPER</td>\n",
       "      <td>PA-24-260</td>\n",
       "      <td>No</td>\n",
       "      <td>...</td>\n",
       "      <td>0.0</td>\n",
       "      <td>1.0</td>\n",
       "      <td>0.0</td>\n",
       "      <td>1.0</td>\n",
       "      <td>Unknown</td>\n",
       "      <td>Unknown</td>\n",
       "      <td>Unknown</td>\n",
       "      <td>30-12-2022</td>\n",
       "      <td>90348</td>\n",
       "      <td>2.0</td>\n",
       "    </tr>\n",
       "  </tbody>\n",
       "</table>\n",
       "<p>88777 rows × 26 columns</p>\n",
       "</div>"
      ],
      "text/plain": [
       "      investigation_type event_date         location        country  \\\n",
       "0               Accident 1948-10-24  MOOSE CREEK, ID  United States   \n",
       "1               Accident 1962-07-19   BRIDGEPORT, CA  United States   \n",
       "2               Accident 1974-08-30    Saltville, VA  United States   \n",
       "3               Accident 1977-06-19       EUREKA, CA  United States   \n",
       "4               Accident 1979-08-02       Canton, OH  United States   \n",
       "...                  ...        ...              ...            ...   \n",
       "90343           Accident 2022-12-26    Annapolis, MD  United States   \n",
       "90344           Accident 2022-12-26      Hampton, NH  United States   \n",
       "90345           Accident 2022-12-26       Payson, AZ  United States   \n",
       "90346           Accident 2022-12-26       Morgan, UT  United States   \n",
       "90347           Accident 2022-12-29       Athens, GA  United States   \n",
       "\n",
       "      injury_severity aircraft_damage aircraft_category  \\\n",
       "0            Fatal(2)       Destroyed           Unknown   \n",
       "1            Fatal(4)       Destroyed           Unknown   \n",
       "2            Fatal(3)       Destroyed           Unknown   \n",
       "3            Fatal(2)       Destroyed           Unknown   \n",
       "4            Fatal(1)       Destroyed           Unknown   \n",
       "...               ...             ...               ...   \n",
       "90343           Minor         Unknown           Unknown   \n",
       "90344         Unknown         Unknown           Unknown   \n",
       "90345       Non-Fatal     Substantial          Airplane   \n",
       "90346         Unknown         Unknown           Unknown   \n",
       "90347           Minor         Unknown           Unknown   \n",
       "\n",
       "                             make      model amateur_built  ...  \\\n",
       "0                         Stinson      108-3            No  ...   \n",
       "1                           Piper   PA24-180            No  ...   \n",
       "2                          Cessna       172M            No  ...   \n",
       "3                        Rockwell        112            No  ...   \n",
       "4                          Cessna        501            No  ...   \n",
       "...                           ...        ...           ...  ...   \n",
       "90343                       PIPER  PA-28-151            No  ...   \n",
       "90344                    BELLANCA       7ECA            No  ...   \n",
       "90345  AMERICAN CHAMPION AIRCRAFT      8GCBC            No  ...   \n",
       "90346                      CESSNA       210N            No  ...   \n",
       "90347                       PIPER  PA-24-260            No  ...   \n",
       "\n",
       "       total_fatal_injuries total_serious_injuries total_minor_injuries  \\\n",
       "0                       2.0                    0.0                  0.0   \n",
       "1                       4.0                    0.0                  0.0   \n",
       "2                       3.0                    0.0                  0.0   \n",
       "3                       2.0                    0.0                  0.0   \n",
       "4                       1.0                    2.0                  0.0   \n",
       "...                     ...                    ...                  ...   \n",
       "90343                   0.0                    1.0                  0.0   \n",
       "90344                   0.0                    0.0                  0.0   \n",
       "90345                   0.0                    0.0                  0.0   \n",
       "90346                   0.0                    0.0                  0.0   \n",
       "90347                   0.0                    1.0                  0.0   \n",
       "\n",
       "      total_uninjured weather_condition broad_phase_of_flight   report_status  \\\n",
       "0                 0.0               UNK                Cruise  Probable Cause   \n",
       "1                 0.0               UNK               Unknown  Probable Cause   \n",
       "2                 0.0               IMC                Cruise  Probable Cause   \n",
       "3                 0.0               IMC                Cruise  Probable Cause   \n",
       "4                 0.0               VMC              Approach  Probable Cause   \n",
       "...               ...               ...                   ...             ...   \n",
       "90343             0.0           Unknown               Unknown         Unknown   \n",
       "90344             0.0           Unknown               Unknown         Unknown   \n",
       "90345             1.0               VMC               Unknown         Unknown   \n",
       "90346             0.0           Unknown               Unknown         Unknown   \n",
       "90347             1.0           Unknown               Unknown         Unknown   \n",
       "\n",
       "       publication_date  accident_id  severity_score  \n",
       "0                   NaN            1             6.0  \n",
       "1            19-09-1996            2            12.0  \n",
       "2            26-02-2007            3             9.0  \n",
       "3            12-09-2000            4             6.0  \n",
       "4            16-04-1980            5             7.0  \n",
       "...                 ...          ...             ...  \n",
       "90343        29-12-2022        90344             2.0  \n",
       "90344               NaN        90345             0.0  \n",
       "90345        27-12-2022        90346             0.0  \n",
       "90346               NaN        90347             0.0  \n",
       "90347        30-12-2022        90348             2.0  \n",
       "\n",
       "[88777 rows x 26 columns]"
      ]
     },
     "execution_count": 17,
     "metadata": {},
     "output_type": "execute_result"
    }
   ],
   "source": [
    "df['severity_score'] = (\n",
    "    df['total_fatal_injuries'] * 3 +\n",
    "    df['total_serious_injuries'] * 2 +\n",
    "    df['total_minor_injuries'] * 1\n",
    ")\n",
    "df"
   ]
  },
  {
   "cell_type": "code",
   "execution_count": 18,
   "metadata": {
    "id": "MYMoVvp541l3"
   },
   "outputs": [],
   "source": [
    "#  Calculate accident count and average severity score per manufacturer (make)\n",
    "summary = df.groupby('make').agg(\n",
    "    avg_severity_score=('severity_score', 'mean'),\n",
    "    accident_count=('make', 'count')\n",
    ").reset_index()\n",
    "\n",
    "# Calculate combined_risk_score\n",
    "summary['combined_risk_score'] = summary['accident_count'] * summary['avg_severity_score']\n",
    "\n",
    "# Merge back into the original data\n",
    "df = df.merge(summary, on='make', how='left')"
   ]
  },
  {
   "cell_type": "code",
   "execution_count": 19,
   "metadata": {
    "id": "UZ3QCqv21uwB"
   },
   "outputs": [],
   "source": [
    "# Standardize casing and spacing\n",
    "df['make'] = df['make'].str.upper().str.strip()\n"
   ]
  },
  {
   "cell_type": "code",
   "execution_count": 20,
   "metadata": {
    "id": "3ghuY2VV14eI"
   },
   "outputs": [],
   "source": [
    "# Create a summary DataFrame: count + average severity\n",
    "summary = df.groupby('make').agg(\n",
    "    accident_count=('make', 'count'),\n",
    "    avg_severity_score=('severity_score', 'mean')\n",
    ").reset_index()\n"
   ]
  },
  {
   "cell_type": "markdown",
   "metadata": {
    "id": "P2hqwEq9mBD7"
   },
   "source": [
    "Add Year Column and Accident Trend"
   ]
  },
  {
   "cell_type": "code",
   "execution_count": 21,
   "metadata": {
    "colab": {
     "base_uri": "https://localhost:8080/",
     "height": 442
    },
    "id": "WMuGxPy6mCFV",
    "outputId": "5ab1d529-7663-4a39-b10c-545a2a0d32e0"
   },
   "outputs": [
    {
     "data": {
      "image/png": "[encoded data removed]",
      "text/plain": [
       "<Figure size 1200x500 with 1 Axes>"
      ]
     },
     "metadata": {},
     "output_type": "display_data"
    }
   ],
   "source": [
    "df['event_date'] = pd.to_datetime(df['event_date'], errors='coerce')\n",
    "df['year'] = df['event_date'].dt.year\n",
    "\n",
    "# Plot trend\n",
    "accidents_by_year = df['year'].value_counts().sort_index()\n",
    "plt.figure(figsize=(12, 5))\n",
    "sns.lineplot(x=accidents_by_year.index, y=accidents_by_year.values)\n",
    "plt.title('Accidents Per Year (1962–2023)')\n",
    "plt.xlabel('Year')\n",
    "plt.ylabel('Number of Accidents')\n",
    "plt.tight_layout()\n",
    "plt.show()\n"
   ]
  },
  {
   "cell_type": "markdown",
   "metadata": {
    "id": "F26OCg9jmJxy"
   },
   "source": [
    "Risk by Flight Phase and Weather"
   ]
  },
  {
   "cell_type": "code",
   "execution_count": 22,
   "metadata": {
    "colab": {
     "base_uri": "https://localhost:8080/",
     "height": 0
    },
    "id": "Hm_v9qwumOFR",
    "outputId": "7ea7bd9a-114a-43cf-8b4c-4144d78796e7"
   },
   "outputs": [
    {
     "name": "stdout",
     "output_type": "stream",
     "text": [
      "Risk by Phase:\n",
      " broad_phase_of_flight\n",
      "Landing        0.468586\n",
      "Taxi           0.525536\n",
      "Standing       1.441270\n",
      "Takeoff        1.933419\n",
      "Go-around      2.334812\n",
      "Descent        2.483033\n",
      "Other          2.537815\n",
      "Cruise         2.670174\n",
      "Maneuvering    2.673630\n",
      "Approach       2.733252\n",
      "Climb          3.668144\n",
      "Unknown        3.766515\n",
      "Name: severity_score, dtype: float64\n",
      "Risk by Weather:\n",
      " weather_condition\n",
      "VMC        1.740353\n",
      "Unk        5.057252\n",
      "IMC        7.113046\n",
      "Unknown    7.673350\n",
      "UNK        9.585480\n",
      "Name: severity_score, dtype: float64\n"
     ]
    }
   ],
   "source": [
    "print(\"Risk by Phase:\\n\", df.groupby('broad_phase_of_flight')['severity_score'].mean().sort_values())\n",
    "print(\"Risk by Weather:\\n\", df.groupby('weather_condition')['severity_score'].mean().sort_values())\n"
   ]
  },
  {
   "cell_type": "markdown",
   "metadata": {
    "id": "g-qS04jcmeYk"
   },
   "source": [
    "Aircraft Model Risk Analysis"
   ]
  },
  {
   "cell_type": "code",
   "execution_count": 23,
   "metadata": {
    "colab": {
     "base_uri": "https://localhost:8080/",
     "height": 362
    },
    "id": "6UQ57-W0mfTl",
    "outputId": "d25ef172-ad08-445c-f636-9a807d7386f9"
   },
   "outputs": [
    {
     "data": {
      "text/html": [
       "<div>\n",
       "<style scoped>\n",
       "    .dataframe tbody tr th:only-of-type {\n",
       "        vertical-align: middle;\n",
       "    }\n",
       "\n",
       "    .dataframe tbody tr th {\n",
       "        vertical-align: top;\n",
       "    }\n",
       "\n",
       "    .dataframe thead th {\n",
       "        text-align: right;\n",
       "    }\n",
       "</style>\n",
       "<table border=\"1\" class=\"dataframe\">\n",
       "  <thead>\n",
       "    <tr style=\"text-align: right;\">\n",
       "      <th></th>\n",
       "      <th>make</th>\n",
       "      <th>model</th>\n",
       "      <th>accident_count</th>\n",
       "      <th>avg_severity_score</th>\n",
       "      <th>combined_risk_score</th>\n",
       "    </tr>\n",
       "  </thead>\n",
       "  <tbody>\n",
       "    <tr>\n",
       "      <th>3204</th>\n",
       "      <td>BOEING</td>\n",
       "      <td>737</td>\n",
       "      <td>489</td>\n",
       "      <td>10.042945</td>\n",
       "      <td>4911.0</td>\n",
       "    </tr>\n",
       "    <tr>\n",
       "      <th>3240</th>\n",
       "      <td>BOEING</td>\n",
       "      <td>737-200</td>\n",
       "      <td>53</td>\n",
       "      <td>55.924528</td>\n",
       "      <td>2964.0</td>\n",
       "    </tr>\n",
       "    <tr>\n",
       "      <th>4687</th>\n",
       "      <td>CESSNA</td>\n",
       "      <td>172</td>\n",
       "      <td>1753</td>\n",
       "      <td>1.258985</td>\n",
       "      <td>2207.0</td>\n",
       "    </tr>\n",
       "    <tr>\n",
       "      <th>4738</th>\n",
       "      <td>CESSNA</td>\n",
       "      <td>172N</td>\n",
       "      <td>1163</td>\n",
       "      <td>1.751505</td>\n",
       "      <td>2037.0</td>\n",
       "    </tr>\n",
       "    <tr>\n",
       "      <th>4663</th>\n",
       "      <td>CESSNA</td>\n",
       "      <td>152</td>\n",
       "      <td>2366</td>\n",
       "      <td>0.843195</td>\n",
       "      <td>1995.0</td>\n",
       "    </tr>\n",
       "    <tr>\n",
       "      <th>13553</th>\n",
       "      <td>PIPER</td>\n",
       "      <td>PA-28-140</td>\n",
       "      <td>932</td>\n",
       "      <td>2.045064</td>\n",
       "      <td>1906.0</td>\n",
       "    </tr>\n",
       "    <tr>\n",
       "      <th>3495</th>\n",
       "      <td>BOEING</td>\n",
       "      <td>777 - 206</td>\n",
       "      <td>3</td>\n",
       "      <td>534.000000</td>\n",
       "      <td>1602.0</td>\n",
       "    </tr>\n",
       "    <tr>\n",
       "      <th>13570</th>\n",
       "      <td>PIPER</td>\n",
       "      <td>PA-28-181</td>\n",
       "      <td>529</td>\n",
       "      <td>2.926276</td>\n",
       "      <td>1548.0</td>\n",
       "    </tr>\n",
       "    <tr>\n",
       "      <th>4736</th>\n",
       "      <td>CESSNA</td>\n",
       "      <td>172M</td>\n",
       "      <td>798</td>\n",
       "      <td>1.654135</td>\n",
       "      <td>1320.0</td>\n",
       "    </tr>\n",
       "    <tr>\n",
       "      <th>13563</th>\n",
       "      <td>PIPER</td>\n",
       "      <td>PA-28-180</td>\n",
       "      <td>572</td>\n",
       "      <td>2.279720</td>\n",
       "      <td>1304.0</td>\n",
       "    </tr>\n",
       "  </tbody>\n",
       "</table>\n",
       "</div>"
      ],
      "text/plain": [
       "         make      model  accident_count  avg_severity_score  \\\n",
       "3204   BOEING        737             489           10.042945   \n",
       "3240   BOEING    737-200              53           55.924528   \n",
       "4687   CESSNA        172            1753            1.258985   \n",
       "4738   CESSNA       172N            1163            1.751505   \n",
       "4663   CESSNA        152            2366            0.843195   \n",
       "13553   PIPER  PA-28-140             932            2.045064   \n",
       "3495   BOEING  777 - 206               3          534.000000   \n",
       "13570   PIPER  PA-28-181             529            2.926276   \n",
       "4736   CESSNA       172M             798            1.654135   \n",
       "13563   PIPER  PA-28-180             572            2.279720   \n",
       "\n",
       "       combined_risk_score  \n",
       "3204                4911.0  \n",
       "3240                2964.0  \n",
       "4687                2207.0  \n",
       "4738                2037.0  \n",
       "4663                1995.0  \n",
       "13553               1906.0  \n",
       "3495                1602.0  \n",
       "13570               1548.0  \n",
       "4736                1320.0  \n",
       "13563               1304.0  "
      ]
     },
     "execution_count": 23,
     "metadata": {},
     "output_type": "execute_result"
    }
   ],
   "source": [
    "df['make'] = df['make'].str.upper().str.strip()\n",
    "\n",
    "model_risk = (\n",
    "    df.groupby(['make', 'model'])\n",
    "    .agg(accident_count=('model', 'count'),\n",
    "         avg_severity_score=('severity_score', 'mean'))\n",
    "    .reset_index()\n",
    ")\n",
    "\n",
    "model_risk['combined_risk_score'] = model_risk['accident_count'] * model_risk['avg_severity_score']\n",
    "model_risk.sort_values(by='combined_risk_score', ascending=False).head(10)\n"
   ]
  },
  {
   "cell_type": "markdown",
   "metadata": {
    "id": "AUYc-S3Wmoxc"
   },
   "source": [
    "Manufacturer Risk Analysis"
   ]
  },
  {
   "cell_type": "code",
   "execution_count": 24,
   "metadata": {
    "id": "bJTO9i1OmrpY"
   },
   "outputs": [],
   "source": [
    "manufacturer_risk = (\n",
    "    df.groupby('make')\n",
    "    .agg(accident_count=('make', 'count'),\n",
    "         avg_severity_score=('severity_score', 'mean'))\n",
    "    .reset_index()\n",
    ")\n",
    "\n",
    "manufacturer_risk['combined_risk_score'] = (\n",
    "    manufacturer_risk['accident_count'] * manufacturer_risk['avg_severity_score']\n",
    ")\n",
    "\n",
    "top_10_riskiest = manufacturer_risk.sort_values(by='combined_risk_score', ascending=False).head(10)\n",
    "bottom_10_safest = manufacturer_risk[manufacturer_risk['accident_count'] > 10]\\\n",
    "    .sort_values(by='combined_risk_score', ascending=True).head(10)\n"
   ]
  },
  {
   "cell_type": "code",
   "execution_count": 25,
   "metadata": {
    "id": "OEBih88j1VY1"
   },
   "outputs": [],
   "source": [
    "# Create a summary DataFrame: count + average severity\n",
    "summary = df.groupby('make').agg(\n",
    "    accident_count=('make', 'count'),\n",
    "    avg_severity_score=('severity_score', 'mean')\n",
    ").reset_index()\n"
   ]
  },
  {
   "cell_type": "markdown",
   "metadata": {
    "id": "fd21aOZSmyga"
   },
   "source": [
    "Visualize Risk Rankings"
   ]
  },
  {
   "cell_type": "code",
   "execution_count": 26,
   "metadata": {
    "colab": {
     "base_uri": "https://localhost:8080/",
     "height": 711
    },
    "id": "-FT39kIim12t",
    "outputId": "f660181f-d3a8-4566-d5bd-e14afc2e7f1f"
   },
   "outputs": [
    {
     "name": "stderr",
     "output_type": "stream",
     "text": [
      "C:\\Users\\ADMIN\\AppData\\Local\\Temp\\ipykernel_17284\\3518724359.py:2: FutureWarning: \n",
      "\n",
      "Passing `palette` without assigning `hue` is deprecated and will be removed in v0.14.0. Assign the `y` variable to `hue` and set `legend=False` for the same effect.\n",
      "\n",
      "  sns.barplot(data=top_10_riskiest, x='combined_risk_score', y='make', palette='Reds_r')\n"
     ]
    },
    {
     "data": {
      "image/png": "[encoded data removed]",
      "text/plain": [
       "<Figure size 1000x600 with 1 Axes>"
      ]
     },
     "metadata": {},
     "output_type": "display_data"
    }
   ],
   "source": [
    "plt.figure(figsize=(10, 6))\n",
    "sns.barplot(data=top_10_riskiest, x='combined_risk_score', y='make', palette='Reds_r')\n",
    "plt.title('Top 10 Riskiest Aircraft Manufacturers')\n",
    "plt.xlabel('Combined Risk Score')\n",
    "plt.ylabel('Manufacturer')\n",
    "plt.tight_layout()\n",
    "plt.show()"
   ]
  },
  {
   "cell_type": "code",
   "execution_count": 27,
   "metadata": {
    "colab": {
     "base_uri": "https://localhost:8080/",
     "height": 711
    },
    "id": "I9IAz5Xqm6-l",
    "outputId": "857900a0-fbd9-4dce-f4a9-27573a988c23"
   },
   "outputs": [
    {
     "name": "stderr",
     "output_type": "stream",
     "text": [
      "C:\\Users\\ADMIN\\AppData\\Local\\Temp\\ipykernel_17284\\389611919.py:2: FutureWarning: \n",
      "\n",
      "Passing `palette` without assigning `hue` is deprecated and will be removed in v0.14.0. Assign the `y` variable to `hue` and set `legend=False` for the same effect.\n",
      "\n",
      "  sns.barplot(data=bottom_10_safest, x='combined_risk_score', y='make', palette='Greens')\n"
     ]
    },
    {
     "data": {
      "image/png": "[encoded data removed]",
      "text/plain": [
       "<Figure size 1000x600 with 1 Axes>"
      ]
     },
     "metadata": {},
     "output_type": "display_data"
    }
   ],
   "source": [
    "plt.figure(figsize=(10, 6))\n",
    "sns.barplot(data=bottom_10_safest, x='combined_risk_score', y='make', palette='Greens')\n",
    "plt.title('Top 10 Safest Aircraft Manufacturers')\n",
    "plt.xlabel('Combined Risk Score')\n",
    "plt.ylabel('Manufacturer')\n",
    "plt.tight_layout()\n",
    "plt.show()"
   ]
  },
  {
   "cell_type": "markdown",
   "metadata": {
    "id": "FyjMMhD6wR4E"
   },
   "source": [
    "Accidents Per Year by Make"
   ]
  },
  {
   "cell_type": "code",
   "execution_count": 28,
   "metadata": {
    "colab": {
     "base_uri": "https://localhost:8080/",
     "height": 573
    },
    "id": "r1i1e3R4wTOp",
    "outputId": "905c2c47-41f1-463d-f791-4dc63108b545"
   },
   "outputs": [
    {
     "data": {
      "image/png": "[encoded data removed]",
      "text/plain": [
       "<Figure size 1200x600 with 1 Axes>"
      ]
     },
     "metadata": {},
     "output_type": "display_data"
    }
   ],
   "source": [
    "df['year'] = pd.to_datetime(df['event_date'], errors='coerce').dt.year\n",
    "make_year = df.groupby(['year', 'make'])['severity_score'].count().reset_index()\n",
    "\n",
    "plt.figure(figsize=(12,6))\n",
    "top_makes = df['make'].value_counts().head(5).index\n",
    "sns.lineplot(data=make_year[make_year['make'].isin(top_makes)], x='year', y='severity_score', hue='make')\n",
    "plt.title('Accidents Per Year by Aircraft Make')\n",
    "plt.ylabel('Number of Accidents')\n",
    "plt.show()\n"
   ]
  },
  {
   "cell_type": "code",
   "execution_count": 29,
   "metadata": {
    "id": "ncgi5xmuotIE"
   },
   "outputs": [],
   "source": [
    "df.to_csv(\"Cleaned_Aviation_Data.csv\", index=False)\n"
   ]
  }
 ],
 "metadata": {
  "colab": {
   "provenance": []
  },
  "kernelspec": {
   "display_name": "Python 3 (ipykernel)",
   "language": "python",
   "name": "python3"
  },
  "language_info": {
   "codemirror_mode": {
    "name": "ipython",
    "version": 3
   },
   "file_extension": ".py",
   "mimetype": "text/x-python",
   "name": "python",
   "nbconvert_exporter": "python",
   "pygments_lexer": "ipython3",
   "version": "3.10.18"
  }
 },
 "nbformat": 4,
 "nbformat_minor": 4
}
